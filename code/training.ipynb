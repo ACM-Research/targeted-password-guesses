{
 "cells": [
  {
   "cell_type": "code",
   "execution_count": null,
   "metadata": {},
   "outputs": [],
   "source": [
    "import pandas as pd\n",
    "import numpy as np\n",
    "import sqlite3"
   ]
  },
  {
   "cell_type": "code",
   "execution_count": null,
   "metadata": {},
   "outputs": [],
   "source": [
    "conn = sqlite3.connect('data/passwords_large.db')\n",
    "df = pd.read_sql_query('SELECT * from users', conn)\n",
    "df.head()"
   ]
  },
  {
   "cell_type": "code",
   "execution_count": null,
   "metadata": {},
   "outputs": [],
   "source": [
    "# Add prompt with required values that each row entry has\n",
    "df['prompt'] = 'Username is ' + df['name'] + '\\nEmail is ' + df['email'] + '\\n'\n",
    "# Add in other column values to prompt if value is not None\n",
    "df.loc[df['realname'].notna(), 'prompt'] = df['prompt'] + 'Real name is ' + df['realname'] + '\\n'\n",
    "df.loc[df['dob'].notna(), 'prompt'] = df['prompt'] + 'Date of Birth is ' + df['dob'] + '\\n'\n",
    "df.loc[df['gender'] == 'F', 'prompt'] = df['prompt'] + 'Gender is Female\\n'\n",
    "df.loc[df['gender'] == 'M', 'prompt'] = df['prompt'] + 'Gender is Male\\n'\n",
    "df.loc[df['country'].notna(), 'prompt'] = df['prompt'] + 'Country is ' + df['country'] + '\\n'\n",
    "df.loc[df['twitterid'].notna(), 'prompt'] = df['prompt'] + 'Twitter ID is ' + df['twitterid'] + '\\n'\n",
    "df.loc[df['about'].notna(), 'prompt'] = df['prompt'] + 'User information: ' + df['about'] + '\\n'\n",
    "df.loc[df['status'].notna(), 'prompt'] = df['prompt'] + 'User status: ' + df['status'] + '\\n'\n",
    "\n",
    "df['prompt'] += 'Password: \\n###\\n'\n",
    "\n",
    "df['completion'] = ' ' + df['password'] + '\\n'"
   ]
  },
  {
   "cell_type": "markdown",
   "metadata": {},
   "source": []
  },
  {
   "cell_type": "code",
   "execution_count": null,
   "metadata": {},
   "outputs": [],
   "source": [
    "# 50-50 train-test split\n",
    "train, test = np.split(df, 2)\n",
    "finetune_input = train[['prompt','completion']].sample(n=100)\n",
    "finetune_input"
   ]
  },
  {
   "cell_type": "code",
   "execution_count": null,
   "metadata": {},
   "outputs": [],
   "source": [
    "# Export fine tuning input to JSONL format\n",
    "finetune_input.to_json('data/finetune_input_100.jsonl', orient='records', lines=True)"
   ]
  },
  {
   "cell_type": "markdown",
   "metadata": {},
   "source": [
    "### Testing & Analysis"
   ]
  },
  {
   "cell_type": "code",
   "execution_count": null,
   "metadata": {},
   "outputs": [],
   "source": [
    "import os\n",
    "import openai\n",
    "from dotenv import load_dotenv\n",
    "\n",
    "load_dotenv()\n",
    "openai.api_key = os.getenv(\"OPENAI_API_KEY\")\n",
    "\n",
    "models = {\n",
    "    \"100\": \"ada:ft-acm-research-password-team:100-examples-2022-04-25-22-50-35\",\n",
    "    \"1k\": \"ada:ft-acm-research-password-team:1k-examples-2022-04-16-17-55-28\",\n",
    "    \"10k\": \"ada:ft-acm-research-password-team:10k-examples-2022-04-16-18-15-21\"\n",
    "}\n",
    "\n",
    "def get_GPT3_completion(model, prompt):\n",
    "    response = openai.Completion.create(\n",
    "        model=model,\n",
    "        prompt=prompt,\n",
    "        max_tokens=32,\n",
    "        temperature=0.8,\n",
    "        stop=['\\n']\n",
    "    )\n",
    "    return response['choices'][0]['text']"
   ]
  },
  {
   "cell_type": "code",
   "execution_count": null,
   "metadata": {},
   "outputs": [],
   "source": [
    "import time\n",
    "from timeit import default_timer as timer\n",
    "from datetime import timedelta\n",
    "import Levenshtein\n",
    "import difflib"
   ]
  },
  {
   "cell_type": "code",
   "execution_count": null,
   "metadata": {},
   "outputs": [],
   "source": [
    "sample = test.sample(n = 1000)"
   ]
  },
  {
   "cell_type": "code",
   "execution_count": null,
   "metadata": {},
   "outputs": [],
   "source": [
    "sample['guesses_model10k'] = 0\n",
    "sample['guessed_passwords'] = ''\n",
    "sample['levenshtein_similarity'] = 0.0\n",
    "sample['difflib_similarity'] = 0.0\n",
    "count = 0\n",
    "progress = 10\n",
    "max_num_guesses = 20\n",
    "\n",
    "print(\"Beginning analysis...\")\n",
    "start = timer()\n",
    "\n",
    "for i, row in sample.iterrows():\n",
    "  count += 1\n",
    "  # call fine tuned model max_num_guesses times and check if it matches the password\n",
    "  guessed_passwords = ''\n",
    "  num_guesses = 0\n",
    "  leven_max_similarity = 0.0\n",
    "  difflib_max_similarity = 0.0\n",
    "  for j in range(1,max_num_guesses+1):\n",
    "    guessed_password = get_GPT3_completion(models[\"100\"], row['prompt']).lstrip()\n",
    "    guessed_passwords += guessed_password\n",
    "\n",
    "    # compute how similar the guessed password is to the actual password\n",
    "    leven_similarity = Levenshtein.ratio(row['password'], guessed_password)\n",
    "    if leven_similarity > leven_max_similarity:\n",
    "      leven_max_similarity = leven_similarity\n",
    "    \n",
    "    difflib_similarity = difflib.SequenceMatcher(None, row['password'], guessed_password).ratio()\n",
    "    if difflib_similarity > difflib_max_similarity:\n",
    "      difflib_max_similarity = difflib_similarity\n",
    "    \n",
    "    # store number of guesses it took to guess the correct password\n",
    "    if guessed_password == row['password']:\n",
    "      num_guesses = j\n",
    "      print(f\"Successfully guessed password of row {count} / 1000 [index {i}] in {num_guesses} tries\\n\")\n",
    "      break\n",
    "    \n",
    "    # append comma to all except last guessed password in the list\n",
    "    if j < max_num_guesses:\n",
    "      guessed_passwords += ','\n",
    "  \n",
    "  # update row in dataframe\n",
    "  sample.loc[i, ['guesses_model10k', 'guessed_passwords', 'levenshtein_similarity', 'difflib_similarity']] = num_guesses, guessed_passwords, leven_max_similarity, difflib_max_similarity\n",
    "  if count % progress == 0:\n",
    "    now = timer()\n",
    "    print(f\"[{timedelta(seconds=now-start)}] Finished processing row {count} / 1000\\nActual password: {row['password']} [Levenshtein Similarity: {leven_max_similarity:.2f}] [DiffLib Similarity: {difflib_max_similarity:.2f}]\\nGuessed passwords: {guessed_passwords}\\n\")\n",
    "\n",
    "end = timer()\n",
    "print(f\"Analysis Completed. Total time elapsed: {timedelta(seconds=end-start)}\")\n",
    "# export to pickle file\n",
    "sample.to_pickle(f\"output/analysis_{time.strftime('%b_%d_%Y_%H-%M-%S', time.gmtime(time.time()))}.pkl\")"
   ]
  },
  {
   "cell_type": "code",
   "execution_count": null,
   "metadata": {},
   "outputs": [],
   "source": [
    "data = pd.read_pickle('output/analysis_Apr_19_2022_00-29-14.pkl')\n",
    "password_list = np.loadtxt('data/top10k_passwords.txt', dtype='str')\n"
   ]
  },
  {
   "cell_type": "code",
   "execution_count": null,
   "metadata": {},
   "outputs": [],
   "source": [
    "data['guesses_top100'] = 0\n",
    "data['top100_levenshtein_similarity'] = 0.0\n",
    "data['top100_difflib_similarity'] = 0.0\n",
    "start = timer() \n",
    "\n",
    "for i, row in data.iterrows():\n",
    "  num_guesses = 0\n",
    "  leven_max_similarity = 0.0\n",
    "  difflib_max_similarity = 0.0\n",
    "  for j, password in enumerate(password_list[:100]):\n",
    "    # compute how similar the guessed password is to the actual password\n",
    "    leven_similarity = Levenshtein.ratio(row['password'], password)\n",
    "    if leven_similarity > leven_max_similarity:\n",
    "      leven_max_similarity = leven_similarity\n",
    "    \n",
    "    difflib_similarity = difflib.SequenceMatcher(None, row['password'], password).ratio()\n",
    "    if difflib_similarity > difflib_max_similarity:\n",
    "      difflib_max_similarity = difflib_similarity\n",
    "    \n",
    "    # store number of guesses it took to guess the correct password\n",
    "    if password == row['password']:\n",
    "      num_guesses = j+1\n",
    "      break\n",
    "\n",
    "  # update row in dataframe\n",
    "  data.loc[i, ['guesses_top100', 'top100_levenshtein_similarity', 'top100_difflib_similarity']] = num_guesses, leven_max_similarity, difflib_max_similarity\n",
    "  \n",
    "\n",
    "end = timer()\n",
    "print(timedelta(seconds=end-start))\n",
    "filename = f\"output/analysis_{time.strftime('%b_%d_%Y_%H-%M-%S', time.gmtime(time.time()))}_top100list.pkl\"\n",
    "print(f'Exported as {filename}')\n",
    "data.to_pickle(filename)\n"
   ]
  },
  {
   "cell_type": "markdown",
   "metadata": {},
   "source": [
    "### Timing how long it takes to send 20 API Requests\n",
    "average API request time = 16.208506 seconds / 100 = 1.621 seconds per request"
   ]
  },
  {
   "cell_type": "code",
   "execution_count": null,
   "metadata": {},
   "outputs": [],
   "source": [
    "from timeit import default_timer as timer\n",
    "from datetime import timedelta\n",
    "start = timer()\n",
    "n = 100\n",
    "row = sample.iloc[0]\n",
    "\n",
    "for i in range(0, n):\n",
    "    guessed_password = get_GPT3_completion(row['prompt'])\n",
    "end = timer()\n",
    "print(timedelta(seconds=end-start))\n"
   ]
  },
  {
   "cell_type": "code",
   "execution_count": null,
   "metadata": {},
   "outputs": [],
   "source": [
    "password_list = np.loadtxt('data/top10k_passwords.txt', dtype='str')\n",
    "sample = df.sample(1000)\n",
    "row = sample.iloc[0]\n",
    "start = timer() \n",
    "for i, password in enumerate(password_list):\n",
    "  if row['password'] == password:\n",
    "    pass\n",
    "\n",
    "end = timer()\n",
    "print(timedelta(seconds=end-start))\n"
   ]
  }
 ],
 "metadata": {
  "interpreter": {
   "hash": "2be5faf79681da6f2a61fdfdd5405d65d042280f7fba6178067603e3a2925119"
  },
  "kernelspec": {
   "display_name": "Python 3.10.2 64-bit",
   "language": "python",
   "name": "python3"
  },
  "language_info": {
   "codemirror_mode": {
    "name": "ipython",
    "version": 3
   },
   "file_extension": ".py",
   "mimetype": "text/x-python",
   "name": "python",
   "nbconvert_exporter": "python",
   "pygments_lexer": "ipython3",
   "version": "3.10.2"
  },
  "orig_nbformat": 4
 },
 "nbformat": 4,
 "nbformat_minor": 2
}
