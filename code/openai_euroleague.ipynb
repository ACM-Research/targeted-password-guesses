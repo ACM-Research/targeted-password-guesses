{
 "cells": [
  {
   "cell_type": "markdown",
   "metadata": {},
   "source": [
    "Make sure to have a `.env` file with the contents `OPENAI_API_KEY=<api key here>`"
   ]
  },
  {
   "cell_type": "code",
   "execution_count": 6,
   "metadata": {},
   "outputs": [],
   "source": [
    "import numpy as np # linear algebra\n",
    "import pandas as pd # data processing, CSV file I/O (e.g. pd.read_csv)\n",
    "from dotenv import load_dotenv\n",
    "import os\n",
    "import openai\n",
    "\n",
    "load_dotenv()\n",
    "openai.api_key = os.getenv(\"OPENAI_API_KEY\")\n",
    "\n",
    "def get_response(data):\n",
    "  prompt_input = f\"Given a person with the following data:\\n\\n{data}\\n\\nGenerate 100 unique passwords for this person, separated by new lines.\"\n",
    "  response = openai.Completion.create(\n",
    "    engine=\"text-ada-001\",\n",
    "    prompt=prompt_input,\n",
    "    temperature=0.7,\n",
    "    max_tokens=64,\n",
    "    top_p=1,\n",
    "    frequency_penalty=0,\n",
    "    presence_penalty=0\n",
    "  )\n",
    "  # print(response)\n",
    "  print(prompt_input)\n",
    "  return response['choices'][0]['text']\n"
   ]
  },
  {
   "cell_type": "code",
   "execution_count": 7,
   "metadata": {},
   "outputs": [
    {
     "name": "stdout",
     "output_type": "stream",
     "text": [
      "Given a person with the following data:\n",
      "\n",
      "{\"player_code\":\"003733\",\"last_season\":2021,\"full_name\":\"ABALDE, ALBERTO\",\"team\":\"Real Madrid\",\"shirt_number\":6.0,\"position\":\"Forward\",\"height\":2.02,\"birthdate\":\"1995-12-15\",\"nationality\":\"Spain\"}\n",
      "\n",
      "Generate 100 unique passwords for this person, separated by new lines.\n",
      "\n",
      "\n",
      "1. abalde20212\n",
      "2. abalde2023\n",
      "3. abalde2025\n",
      "4. abalde2027\n",
      "5. abalde2029\n",
      "6. abalde2031\n",
      "7. abalde2033\n",
      "8. abalde\n"
     ]
    }
   ],
   "source": [
    "df = pd.read_csv('./input/euroleague_alltime.csv')\n",
    "player1_data = df.iloc[0].to_json()\n",
    "\n",
    "print(get_response(player1_data))"
   ]
  }
 ],
 "metadata": {
  "interpreter": {
   "hash": "2be5faf79681da6f2a61fdfdd5405d65d042280f7fba6178067603e3a2925119"
  },
  "kernelspec": {
   "display_name": "Python 3.10.2 64-bit",
   "language": "python",
   "name": "python3"
  },
  "language_info": {
   "codemirror_mode": {
    "name": "ipython",
    "version": 3
   },
   "file_extension": ".py",
   "mimetype": "text/x-python",
   "name": "python",
   "nbconvert_exporter": "python",
   "pygments_lexer": "ipython3",
   "version": "3.10.2"
  },
  "orig_nbformat": 4
 },
 "nbformat": 4,
 "nbformat_minor": 2
}
