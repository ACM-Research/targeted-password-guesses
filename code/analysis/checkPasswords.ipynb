{
 "cells": [
  {
   "cell_type": "code",
   "execution_count": 3,
   "metadata": {},
   "outputs": [],
   "source": [
    "import pandas as pd\n",
    "import matplotlib.pyplot as plt\n",
    "\n",
    "topPassMatch = []\n",
    "targetedPassMatch = []\n",
    "crackedTop =0\n",
    "topTries = 0\n",
    "crackedTargeted = 0\n",
    "targetedTries = 0\n"
   ]
  },
  {
   "cell_type": "code",
   "execution_count": 5,
   "metadata": {
    "tags": [
     "outputPrepend"
    ]
   },
   "outputs": [
    {
     "name": "stdout",
     "output_type": "stream",
     "text": [
      "Error while deleting file  topPassMatch.csv\n",
      "Error while deleting file  targetedPassMatch.csv\n"
     ]
    }
   ],
   "source": [
    "df = pd.read_csv('users.csv')\n",
    "dfTop100 = pd.read_csv('passwordsList100.csv')\n",
    "dfTargeted = pd.read_csv('passwordsTargeted.csv')\n",
    "\n",
    "\n",
    "iterator = 1\n",
    "\n",
    "for index, row in df.iterrows():\n",
    "    iterator +=1\n",
    "    #print(\"Entering row \", iterator, \" \", row[1])\n",
    "    topTries, targetedTries = 0, 0\n",
    "\n",
    "    for index2, row2 in dfTop100.iterrows():\n",
    "        topTries += 1\n",
    "        if row[1] == row2[0]:\n",
    "            #print(\"MATCH FOUND \", row[1])\n",
    "            crackedTop+=1\n",
    "            if ([row[1], topTries]) not in topPassMatch:\n",
    "                topPassMatch.append([row[1], topTries]) \n",
    "            topTries = 0\n",
    "            continue\n",
    "\n",
    "    for index3, row3 in dfTargeted.iterrows(): # Nededs to be changed, this is for testing only, needs actual 100 passwords\n",
    "        targetedTries += 1\n",
    "        if row[1] == row3[0]:\n",
    "            #print(\"MATCH FOUND \", row[1])\n",
    "            crackedTargeted+=1\n",
    "            if ([row[1], targetedTries]) not in targetedPassMatch:\n",
    "                targetedPassMatch.append([row[1], targetedTries])\n",
    "            targetedTries = 0\n",
    "            continue\n",
    "\n",
    "try:\n",
    "    os.remove('topPassMatch.csv')\n",
    "except:\n",
    "    print(\"Error while deleting file \", 'topPassMatch.csv')\n",
    "\n",
    "try:\n",
    "    os.remove('targetedPassMatch.csv')\n",
    "except:\n",
    "    print(\"Error while deleting file \", 'targetedPassMatch.csv')\n",
    "\n",
    "dfTargetedPassMatch = pd.DataFrame(targetedPassMatch, columns=['Password', 'Number of Tries'])\n",
    "dfTopPassMatch = pd.DataFrame(topPassMatch, columns=['Password', 'Number of Tries'])\n",
    "\n",
    "dfTargetedPassMatch.to_csv('targetedPassMatch.csv', index=False)\n",
    "dfTopPassMatch.to_csv('topPassMatch.csv', index=False)\n"
   ]
  },
  {
   "cell_type": "code",
   "execution_count": 6,
   "metadata": {},
   "outputs": [
    {
     "data": {
      "image/png": "[encoded data removed]",
      "text/plain": [
       "<Figure size 432x288 with 1 Axes>"
      ]
     },
     "metadata": {
      "needs_background": "light"
     },
     "output_type": "display_data"
    }
   ],
   "source": [
    "targPlotX = []\n",
    "targPlotY = []\n",
    "topPlotX = []\n",
    "topPlotY = []\n",
    "\n",
    "import numpy as np\n",
    "\n",
    "for tries in range(11):\n",
    "    count = 0\n",
    "    for passwd in  targetedPassMatch:\n",
    "        if passwd[1] in range(tries*10, tries*10+10):\n",
    "            count += 1 # increase amount of passwd guessed for that specific number of guesses\n",
    "    \n",
    "    #print(\"Targ: \", tries*10, \" \", count)\n",
    "    targPlotX.append(tries*10)\n",
    "    targPlotY.append(count)\n",
    "    count = 0\n",
    "\n",
    "    for passwd in topPassMatch:\n",
    "        if passwd[1] in range(tries*10, tries*10+10):\n",
    "            count += 1 # increase amount of passwd guessed for that specific number of guesses\n",
    "\n",
    "    #print(\"Top: \", tries*10, \" \", count)\n",
    "    topPlotX.append(tries*10)\n",
    "    topPlotY.append(count)\n",
    "\n",
    "width = 3\n",
    "plt.xlabel(\"Number of Guesses\")\n",
    "plt.ylabel(\"Number of Cracked Passwords\")\n",
    "plt.xticks(np.arange(0,101,10))\n",
    "plt.yticks(np.arange(0,11,2))\n",
    "plt.title(\"Comparision of Targeted and Top-100 bruteforce password guessing\")\n",
    "plt.bar(np.arange(0,101,10)-1, topPlotY, width=width, color=\"maroon\", label=\"Top 100\")\n",
    "plt.bar(np.arange(0,101,10)+2, targPlotY, width=width, color=\"forestgreen\", label=\"Targeted\")\n",
    "plt.legend(frameon=False)\n",
    "plt.show()\n",
    "\n",
    "#print(targPlot, '\\n',topPlot)"
   ]
  },
  {
   "cell_type": "code",
   "execution_count": null,
   "metadata": {},
   "outputs": [],
   "source": []
  }
 ],
 "metadata": {
  "kernelspec": {
   "display_name": "Python 3 (ipykernel)",
   "name": "python3"
  },
  "language_info": {
   "codemirror_mode": {
    "name": "ipython",
    "version": 3
   },
   "file_extension": ".py",
   "mimetype": "text/x-python",
   "name": "python",
   "nbconvert_exporter": "python",
   "pygments_lexer": "ipython3",
   "version": "3.9.7"
  },
  "orig_nbformat": 2
 },
 "nbformat": 4,
 "nbformat_minor": 2
}
