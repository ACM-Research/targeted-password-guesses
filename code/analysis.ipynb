{
 "cells": [
  {
   "cell_type": "code",
   "execution_count": null,
   "metadata": {},
   "outputs": [],
   "source": [
    "import pandas as pd\n",
    "import numpy as np\n",
    "import seaborn as sns\n",
    "import matplotlib.pyplot as plt"
   ]
  },
  {
   "cell_type": "code",
   "execution_count": null,
   "metadata": {},
   "outputs": [],
   "source": [
    "\n",
    "data = pd.read_pickle('output/analysis_Apr_25_2022_23-41-27_top100list.pkl')\n",
    "data.head()"
   ]
  },
  {
   "cell_type": "code",
   "execution_count": null,
   "metadata": {},
   "outputs": [],
   "source": [
    "sns.histplot(data['levenshtein_similarity'], color='red')\n",
    "sns.histplot(data['difflib_similarity'])"
   ]
  },
  {
   "cell_type": "code",
   "execution_count": null,
   "metadata": {},
   "outputs": [],
   "source": [
    "# sns.distplot(data['levenshtein_similarity'])\n",
    "sns.distplot(data['difflib_similarity'], color='red')\n",
    "sns.distplot(data['top100_difflib_similarity'])\n",
    "# sns.distplot(data['top20_levenshtein_similarity'])"
   ]
  },
  {
   "cell_type": "code",
   "execution_count": null,
   "metadata": {},
   "outputs": [],
   "source": [
    "# num cracked passwords vs num guesses\n",
    "modelY = []\n",
    "top100Y = []\n",
    "\n",
    "max_num_guesses = 20\n",
    "for i in range(1,21):\n",
    "  modelY.append(len(data[data['guesses_model10k'] == i]))\n",
    "  top100Y.append(len(data[data['guesses_top100'] == i]))\n",
    "\n",
    "plt.title(\"Comparison of GPT-3 Model and Top-100 Bruteforce Password Guessing\")\n",
    "plt.xlabel(\"Number of Guesses\")\n",
    "plt.ylabel(\"Number of Cracked Passwords\")\n",
    "width = 1\n",
    "plt.xticks(np.arange(0,21,5))\n",
    "# plt.yticks(np.arange(0,50,2))\n",
    "plt.bar(np.arange(1,21,1), top100Y, width=width, color=\"maroon\", label=\"Top 100 List\")\n",
    "plt.bar(np.arange(1,21,1), modelY, width=width, color=\"forestgreen\", label=\"GPT-3 Model\")\n",
    "plt.legend(frameon=False)\n",
    "plt.show()"
   ]
  }
 ],
 "metadata": {
  "interpreter": {
   "hash": "2be5faf79681da6f2a61fdfdd5405d65d042280f7fba6178067603e3a2925119"
  },
  "kernelspec": {
   "display_name": "Python 3.10.2 64-bit",
   "language": "python",
   "name": "python3"
  },
  "language_info": {
   "codemirror_mode": {
    "name": "ipython",
    "version": 3
   },
   "file_extension": ".py",
   "mimetype": "text/x-python",
   "name": "python",
   "nbconvert_exporter": "python",
   "pygments_lexer": "ipython3",
   "version": "3.10.2"
  },
  "orig_nbformat": 4
 },
 "nbformat": 4,
 "nbformat_minor": 2
}
