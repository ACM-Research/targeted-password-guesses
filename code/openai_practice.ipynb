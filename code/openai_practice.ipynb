{
 "cells": [
  {
   "cell_type": "markdown",
   "metadata": {},
   "source": [
    "Make sure to have a `.env` file with the contents `OPENAI_API_KEY=<api key here>`\n",
    "\n",
    "[OKCupid Dating Site Dataset](https://www.kaggle.com/subhamyadav580/dating-site) (Put this in `/code/input`)"
   ]
  },
  {
   "cell_type": "code",
   "execution_count": 84,
   "metadata": {},
   "outputs": [],
   "source": [
    "import numpy as np # linear algebra\n",
    "import pandas as pd # data processing, CSV file I/O (e.g. pd.read_csv)\n",
    "from dotenv import load_dotenv\n",
    "import os\n",
    "import openai\n",
    "import json\n",
    "\n",
    "load_dotenv()\n",
    "openai.api_key = os.getenv(\"OPENAI_API_KEY\")\n",
    "\n",
    "def get_response(data):\n",
    "  # data = json.loads(data)\n",
    "  prompt_input = \"User data:\\n\"\n",
    "  for key,value in data.items():\n",
    "    prompt_input += f\"{key}: {value}\\n\"\n",
    "  \n",
    "  prompt_input += \"Generate a list of unique passwords from the data. Each password must have a length greater than 6 characters.\\n\"\n",
    "  response = openai.Completion.create(\n",
    "    engine=\"text-ada-001\",\n",
    "    prompt=prompt_input,\n",
    "    temperature=0.7,\n",
    "    max_tokens=64,\n",
    "    top_p=1,\n",
    "    frequency_penalty=0,\n",
    "    presence_penalty=0\n",
    "  )\n",
    "  # print(response)\n",
    "  # print(prompt_input)\n",
    "  print(prompt_input)\n",
    "  return response['choices'][0]['text']\n"
   ]
  },
  {
   "cell_type": "code",
   "execution_count": 94,
   "metadata": {},
   "outputs": [
    {
     "name": "stdout",
     "output_type": "stream",
     "text": [
      "User data:\n",
      "age: 22\n",
      "education: working on college/university\n",
      "ethnicity: asian, white\n",
      "job: transportation\n",
      "location: south san francisco, california\n",
      "orientation: straight\n",
      "pets: likes dogs and likes cats\n",
      "religion: agnosticism and very serious about it\n",
      "sign: gemini\n",
      "keywords: ['smart guy', 'dumb guy', 'dumbest smart', 'smartest dumb', 'guy', 'love', 'shoes', 'make', 'intellectual', 'good', 'kind', 'dumbest', 'smart', 'smartest', 'dumb', 'game', 'video game', 'love life', 'mine', 'metaphors']\n",
      "Generate a list of unique passwords from the data. Each password must have a length greater than 6 characters.\n",
      "\n",
      "\n",
      "1.password1\n",
      "2.password2\n",
      "3.password3\n",
      "4.password4\n",
      "5.password5\n",
      "6.password6\n"
     ]
    }
   ],
   "source": [
    "# Load dataset\n",
    "df = pd.read_csv('./input/okcupid_profiles.csv')\n",
    "df = df.drop([\"body_type\",\"diet\",\"drinks\",\"drugs\",\"height\",\"income\",\"last_online\",\"offspring\",\"sex\",\"smokes\",\"speaks\",\"status\"], axis=1)\n",
    "profile = df.iloc[0].to_json()\n",
    "profile_data = json.loads(profile)\n",
    "\n",
    "\n",
    "import yake\n",
    "\n",
    "data = dict()\n",
    "\n",
    "combined_essays = \"\"\n",
    "for key,value in profile_data.items():\n",
    "  if key.startswith(\"essay\"):\n",
    "    if value is not None:\n",
    "      combined_essays += f\"{value}\\n\" \n",
    "  else:\n",
    "    data[key] = value\n",
    "\n",
    "combined_essays = combined_essays.replace(\"<br />\", \"\")\n",
    "# print(combined_essays)\n",
    "kw_extractor = yake.KeywordExtractor(n=2)\n",
    "keywords = [ kw for (kw, score) in kw_extractor.extract_keywords(combined_essays)]\n",
    "\n",
    "data['keywords'] = keywords\n",
    "print(get_response(data))"
   ]
  }
 ],
 "metadata": {
  "interpreter": {
   "hash": "2be5faf79681da6f2a61fdfdd5405d65d042280f7fba6178067603e3a2925119"
  },
  "kernelspec": {
   "display_name": "Python 3.10.2 64-bit",
   "language": "python",
   "name": "python3"
  },
  "language_info": {
   "codemirror_mode": {
    "name": "ipython",
    "version": 3
   },
   "file_extension": ".py",
   "mimetype": "text/x-python",
   "name": "python",
   "nbconvert_exporter": "python",
   "pygments_lexer": "ipython3",
   "version": "3.10.2"
  },
  "orig_nbformat": 4
 },
 "nbformat": 4,
 "nbformat_minor": 2
}
