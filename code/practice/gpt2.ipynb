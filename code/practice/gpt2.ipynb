{
 "cells": [
  {
   "cell_type": "code",
   "execution_count": 3,
   "metadata": {},
   "outputs": [],
   "source": [
    "import torch\n",
    "from transformers import GPT2LMHeadModel, GPT2Tokenizer"
   ]
  },
  {
   "cell_type": "code",
   "execution_count": 4,
   "metadata": {},
   "outputs": [
    {
     "name": "stderr",
     "output_type": "stream",
     "text": [
      "Downloading: 100%|██████████| 0.99M/0.99M [00:00<00:00, 2.49MB/s]\n",
      "Downloading: 100%|██████████| 446k/446k [00:00<00:00, 2.28MB/s]\n",
      "Downloading: 100%|██████████| 665/665 [00:00<00:00, 166kB/s]\n",
      "Downloading: 100%|██████████| 523M/523M [00:41<00:00, 13.2MB/s] \n"
     ]
    }
   ],
   "source": [
    "tokenizer = GPT2Tokenizer.from_pretrained('gpt2')\n",
    "model = GPT2LMHeadModel.from_pretrained('gpt2')"
   ]
  },
  {
   "cell_type": "code",
   "execution_count": 31,
   "metadata": {},
   "outputs": [],
   "source": [
    "sequence = (\"\"\"\n",
    "User data:\n",
    "age: 38\n",
    "education: graduated from masters program\n",
    "job: None\n",
    "orientation: straight\n",
    "pets: has cats\n",
    "religion: None\n",
    "sign: pisces\n",
    "keywords: ['pleasantly uncomfortable', 'writing public', 'online dating', 'dating site', 'public text', 'friends', 'people', 'find', 'site makes', 'friend']\n",
    "Passwords: public_writer123, Friend_Maker, ilovewriting, onlinedater, \n",
    "\"\"\")"
   ]
  },
  {
   "cell_type": "code",
   "execution_count": 32,
   "metadata": {},
   "outputs": [],
   "source": [
    "\n",
    "inputs = tokenizer.encode(sequence, return_tensors='pt')"
   ]
  },
  {
   "cell_type": "code",
   "execution_count": 33,
   "metadata": {},
   "outputs": [
    {
     "name": "stderr",
     "output_type": "stream",
     "text": [
      "Setting `pad_token_id` to `eos_token_id`:50256 for open-end generation.\n"
     ]
    }
   ],
   "source": [
    "\n",
    "outputs = model.generate(\n",
    "  inputs, max_length=200, do_sample=True, temperature=2.5\n",
    ")"
   ]
  },
  {
   "cell_type": "code",
   "execution_count": 35,
   "metadata": {},
   "outputs": [
    {
     "name": "stdout",
     "output_type": "stream",
     "text": [
      "\n",
      "User data:\n",
      "age: 38\n",
      "education: graduated from masters program\n",
      "job: None\n",
      "orientation: straight\n",
      "pets: has cats\n",
      "religion: None\n",
      "sign: pisces\n",
      "keywords: ['pleasantly uncomfortable', 'writing public', 'online dating', 'dating site', 'public text', 'friends', 'people', 'find','site makes', 'friend']\n",
      "Passwords: public_writer123, Friend_Maker, ilovewriting, onlinedater, \n",
      "Note in screenshots from online sites (the author and photographer work at least two different accounts while uploading to each instance): 'publisher has 'online writing', and 'online living' while uploadtto: 'onlinewriting blog', to get into full time online publication with some type of writing service or project or social media product at a higher subscription and higher fees.'\n",
      "What about a 'tapping off time online writing with the other party'.\n",
      "Letting go!\n"
     ]
    }
   ],
   "source": [
    "text = tokenizer.decode(outputs[0], skip_special_tokens=True)\n",
    "print(text)"
   ]
  }
 ],
 "metadata": {
  "interpreter": {
   "hash": "2be5faf79681da6f2a61fdfdd5405d65d042280f7fba6178067603e3a2925119"
  },
  "kernelspec": {
   "display_name": "Python 3.10.2 64-bit",
   "language": "python",
   "name": "python3"
  },
  "language_info": {
   "codemirror_mode": {
    "name": "ipython",
    "version": 3
   },
   "file_extension": ".py",
   "mimetype": "text/x-python",
   "name": "python",
   "nbconvert_exporter": "python",
   "pygments_lexer": "ipython3",
   "version": "3.10.2"
  },
  "orig_nbformat": 4
 },
 "nbformat": 4,
 "nbformat_minor": 2
}
