{
 "cells": [
  {
   "cell_type": "code",
   "execution_count": null,
   "metadata": {},
   "outputs": [],
   "source": [
    "import pandas as pd\n",
    "import numpy as np\n",
    "import sqlite3"
   ]
  },
  {
   "cell_type": "code",
   "execution_count": null,
   "metadata": {},
   "outputs": [],
   "source": [
    "conn = sqlite3.connect('data/passwords_large.db')\n",
    "df = pd.read_sql_query('SELECT * from users', conn)\n",
    "df = df.drop(['hashed_password'], axis=1)\n",
    "df.head()"
   ]
  },
  {
   "cell_type": "code",
   "execution_count": null,
   "metadata": {},
   "outputs": [],
   "source": [
    "# Add prompt with required values that each row entry has\n",
    "df['prompt'] = 'Username is ' + df['name'] + '\\nEmail is ' + df['email'] + '\\n'\n",
    "# Add in other column values to prompt if value is not None\n",
    "df.loc[df['realname'].notna(), 'prompt'] = df['prompt'] + 'Real name is ' + df['realname'] + '\\n'\n",
    "df.loc[df['dob'].notna(), 'prompt'] = df['prompt'] + 'Date of Birth is ' + df['dob'] + '\\n'\n",
    "df.loc[df['gender'] == 'F', 'prompt'] = df['prompt'] + 'Gender is Female\\n'\n",
    "df.loc[df['gender'] == 'M', 'prompt'] = df['prompt'] + 'Gender is Male\\n'\n",
    "df.loc[df['country'].notna(), 'prompt'] = df['prompt'] + 'Country is ' + df['country'] + '\\n'\n",
    "df.loc[df['twitterid'].notna(), 'prompt'] = df['prompt'] + 'Twitter ID is ' + df['twitterid'] + '\\n'\n",
    "df.loc[df['tumblrpassword'].notna(), 'prompt'] = df['prompt'] + 'Tumblr Password is ' + df['tumblrpassword'] + '\\n'\n",
    "df.loc[df['tumblrpassword'].notna(), 'prompt'] = df['prompt'] + 'Tumblr Password is ' + df['tumblrpassword'] + '\\n'\n",
    "df.loc[df['about'].notna(), 'prompt'] = df['prompt'] + 'User information: ' + df['about'] + '\\n'\n",
    "df.loc[df['status'].notna(), 'prompt'] = df['prompt'] + 'User status: ' + df['status'] + '\\n'\n",
    "\n",
    "df['prompt'] += 'Password: \\n###\\n'\n",
    "\n",
    "df['completion'] = ' ' + df['password'] + '\\n'"
   ]
  },
  {
   "cell_type": "code",
   "execution_count": null,
   "metadata": {},
   "outputs": [],
   "source": [
    "finetune_input = df[['prompt','completion']].sample(10000)\n",
    "finetune_input"
   ]
  },
  {
   "cell_type": "code",
   "execution_count": null,
   "metadata": {},
   "outputs": [],
   "source": [
    "# Export fine tuning input to JSONL format\n",
    "finetune_input.to_json('data/finetune_input_10000.jsonl', orient='records', lines=True)"
   ]
  }
 ],
 "metadata": {
  "interpreter": {
   "hash": "2be5faf79681da6f2a61fdfdd5405d65d042280f7fba6178067603e3a2925119"
  },
  "kernelspec": {
   "display_name": "Python 3.10.2 64-bit",
   "language": "python",
   "name": "python3"
  },
  "language_info": {
   "codemirror_mode": {
    "name": "ipython",
    "version": 3
   },
   "file_extension": ".py",
   "mimetype": "text/x-python",
   "name": "python",
   "nbconvert_exporter": "python",
   "pygments_lexer": "ipython3",
   "version": "3.10.2"
  },
  "orig_nbformat": 4
 },
 "nbformat": 4,
 "nbformat_minor": 2
}
